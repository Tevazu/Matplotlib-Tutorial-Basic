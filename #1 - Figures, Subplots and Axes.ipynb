{
 "cells": [
  {
   "cell_type": "code",
   "execution_count": 5,
   "id": "1d58839d",
   "metadata": {},
   "outputs": [],
   "source": [
    "import matplotlib.pyplot as plt #Including matplotlib\n",
    "import numpy as np"
   ]
  },
  {
   "cell_type": "code",
   "execution_count": 6,
   "id": "1460f229",
   "metadata": {},
   "outputs": [],
   "source": [
    "%matplotlib inline "
   ]
  },
  {
   "cell_type": "markdown",
   "id": "20ce738a",
   "metadata": {},
   "source": [
    "**Note:** In Jupyter, we should write this statement to see the graphics. You don't need to write this statement in other languages."
   ]
  },
  {
   "cell_type": "code",
   "execution_count": 7,
   "id": "8e5e3677",
   "metadata": {},
   "outputs": [],
   "source": [
    "x = np.arange(1,6) "
   ]
  },
  {
   "cell_type": "code",
   "execution_count": 8,
   "id": "1084150f",
   "metadata": {},
   "outputs": [
    {
     "data": {
      "text/plain": [
       "array([1, 2, 3, 4, 5])"
      ]
     },
     "execution_count": 8,
     "metadata": {},
     "output_type": "execute_result"
    }
   ],
   "source": [
    "x"
   ]
  },
  {
   "cell_type": "code",
   "execution_count": 9,
   "id": "b7c075e3",
   "metadata": {},
   "outputs": [],
   "source": [
    "y = np.arange(2,11,2)"
   ]
  },
  {
   "cell_type": "code",
   "execution_count": 10,
   "id": "89ffc00e",
   "metadata": {},
   "outputs": [
    {
     "data": {
      "text/plain": [
       "array([ 2,  4,  6,  8, 10])"
      ]
     },
     "execution_count": 10,
     "metadata": {},
     "output_type": "execute_result"
    }
   ],
   "source": [
    "y"
   ]
  },
  {
   "cell_type": "markdown",
   "id": "6f9b01bf",
   "metadata": {},
   "source": [
    "### Now, let's create the graphic including these two arrays:"
   ]
  },
  {
   "cell_type": "code",
   "execution_count": 11,
   "id": "932245b9",
   "metadata": {},
   "outputs": [
    {
     "data": {
      "text/plain": [
       "[<matplotlib.lines.Line2D at 0x25a29f89220>]"
      ]
     },
     "execution_count": 11,
     "metadata": {},
     "output_type": "execute_result"
    },
    {
     "data": {
      "image/png": "[encoded data removed]",
      "text/plain": [
       "<Figure size 432x288 with 1 Axes>"
      ]
     },
     "metadata": {
      "needs_background": "light"
     },
     "output_type": "display_data"
    }
   ],
   "source": [
    "plt.plot(x, y, \"cyan\") # We give the x and y axis and the color of the line\n",
    "#plt.show() ------> You \"must\" use this code if you are working on files, but in Jupyter it's not necessary"
   ]
  },
  {
   "cell_type": "markdown",
   "id": "acfb6984",
   "metadata": {},
   "source": [
    "• As you can see, 1 goes 2, 2 goes 4 and it goes like that. \\\n",
    "**◘ Note:** _plt.plot(x axis, y axis)_ In this code, we give the **x** and **y axis** as shown. Be careful while giving values for both axes.\\\n",
    "**○ Info:** **[<matplotlib.lines.Line2D at 0x2d886fe8130>]** is shown in the output, because we didn't write **\"plt.show()\"** in code. If you don't want to see this statement, you can just write this code. It doesn't effect the program."
   ]
  },
  {
   "cell_type": "markdown",
   "id": "c7256da0",
   "metadata": {},
   "source": [
    "***\n",
    "### What if we want to create 4 graphics at the same time:\n",
    "• We need .subplot() function and in this function we decide matrixes and the number of graphic:"
   ]
  },
  {
   "cell_type": "code",
   "execution_count": 12,
   "id": "47306d5d",
   "metadata": {},
   "outputs": [
    {
     "data": {
      "image/png": "[encoded data removed]",
      "text/plain": [
       "<Figure size 432x288 with 4 Axes>"
      ]
     },
     "metadata": {
      "needs_background": "light"
     },
     "output_type": "display_data"
    }
   ],
   "source": [
    "plt.subplot(2, 2, 1) # This creates it in 2x2 matrix and 1st graphic\n",
    "plt.plot(x, y, \"red\") # Same axes\n",
    "\n",
    "plt.subplot(2, 2, 2) # This creates it in 2x2 matrix and 2st graphic\n",
    "plt.plot(y, x, \"yellow\") # We changed the order of axes\n",
    "\n",
    "plt.subplot(2, 2, 3) # This creates it in 2x2 matrix and 3st graphic\n",
    "plt.plot(y, x, \"purple\") # Same as before\n",
    "\n",
    "plt.subplot(2, 2, 4) # This creates it in 2x2 matrix and 4st graphic\n",
    "plt.plot(x, x ** 2, \"green\") # We changed the y axis to x**2, this will take x values' square and show it on graphic as y axis\n",
    "\n",
    "plt.show() # You see the \"[<matplotlib.lines.Line2D at 0x2d888cdbac0>]\" statement is not shown in the output"
   ]
  },
  {
   "cell_type": "markdown",
   "id": "2beae330",
   "metadata": {},
   "source": [
    "***\n",
    "### • You see, it's too long to write more than 1 graphics by this way. So we can use figures.\n",
    "### • Figures are making easier to show graphics. To understand this better, we won't going to create it in Jupyter, because Jupyter doesn't show the figure interface. You will understand what I mean by this. \n",
    "### • Now, we will use a file to write our code and Anaconda Prompt (CMD) to run it. \n",
    "### • You can find the file in the github folder of this tutorial. Let's start:\n",
    "\n",
    "**1-** Create a text file and name it anything and .py extension (for example **\"graph.py\"**) and open it with any editor.\\\n",
    "\\\n",
    "**2-** Write these codes:\n",
    "\\\n",
    "**_import matplotlib.pyplot as plt\\\n",
    "import numpy as np\\\n",
    "x = np.arange(1,6)\\\n",
    "y = np.arange(2,11,2)\\\n",
    "figure = plt.figure()_**           ------------->\".figure\" creates a figure, you will understand when running the program.\\\n",
    "**_plt.show()_**     -------------> We are working on a file, so we write this statement too.\\\n",
    "\\\n",
    "**3-** Open **\"Anaconda Prompt\"** by searching it on windows search, because we should run it on the same environment as Jupyter, and that environment is Anaconda Prompt. It's the same thing as CMD.\\\n",
    "\\\n",
    "**4-** Go to **path of the file**, for example if it's on desktop **\"C:\\Users\\User\\Desktop\"**. To go to desktop or another path you should use **\"cd\"** command (**\">cd Desktop\"**). \\\n",
    "\\\n",
    "**5-** Then type **\"python filename\"** filename should be your text file's name (for example **\"python graph.py\"**).\n",
    "\n",
    "### • And a \"Figure 1\" titled interface window will be opened. It has some properties like \"reset, zoom, back, forward, save...\". \n",
    "### • This is an interface that matplotlib includes. We can create different graphics at the same time.\n",
    "### • Jupyter can't show this interface, because it just only shows graphics, nothing more."
   ]
  },
  {
   "cell_type": "markdown",
   "id": "5d7189fd",
   "metadata": {},
   "source": [
    "***"
   ]
  },
  {
   "cell_type": "markdown",
   "id": "108f8e35",
   "metadata": {},
   "source": [
    "### • Adding graphics:\n",
    "\n",
    "**1-** Now, codes will be like this:\\\n",
    "**_import matplotlib.pyplot as plt\\\n",
    "import numpy as np\\\n",
    "x = np.arange(1,6)\\\n",
    "y = np.arange(2,11,2)\\\n",
    "figure = plt.figure()\\\n",
    "\\\n",
    "axes = figure.add_axes([0.1, 0.2, 0.4, 0.6])_**     ---------->  We are adding graphics here. Assume that the figure interface window is 1x1 unit long\\\n",
    "\\\n",
    "**_plt.show()_**\\\n",
    "\\\n",
    "◘ EXPLANATION OF THE VALUES IN **\"add_axes()\"**\\\n",
    "► The first value **(0.1)** specifies how far the graph starts from the left of the figure window (think it horizontally).\\\n",
    "► The second value **(0.2)** specifies how high the graph starts from the bottom of the figure window (think it vertically).\\\n",
    "► The third value **(0.4)** specifies how long will be the graph horizontally\\\n",
    "► The fourth value **(0.6)** specifies how long will be the graph vertically\\\n",
    "Now, run it and you will see the graph is created according to info that we gave."
   ]
  },
  {
   "cell_type": "markdown",
   "id": "5887035e",
   "metadata": {},
   "source": [
    "***"
   ]
  },
  {
   "cell_type": "markdown",
   "id": "bf9fffba",
   "metadata": {},
   "source": [
    "### • Adding more than 1 graphics:\n",
    "Codes:\\\n",
    "**_import matplotlib.pyplot as plt\\\n",
    "import numpy as np\\\n",
    "x = np.arange(1,6)\\\n",
    "y = np.arange(2,11,2)\\\n",
    "figure = plt.figure()_**\\\n",
    "\\\n",
    "**_axes1 = figure.add_axes([0.1, 0.2, 0.8, 0.8])_**   ----------> First graphic\\\n",
    "**_axes2 = figure.add_axes([0.2, 0.5, 0.2, 0.3])_**   ----------> Second graphic\\\n",
    "\\\n",
    "**_plt.show()_**"
   ]
  },
  {
   "cell_type": "markdown",
   "id": "ca3b4932",
   "metadata": {},
   "source": [
    "***"
   ]
  },
  {
   "cell_type": "markdown",
   "id": "6ba994f2",
   "metadata": {},
   "source": [
    "### • Adding lines and labels:\n",
    "Codes:\\\n",
    "**_import matplotlib.pyplot as plt\\\n",
    "import numpy as np\\\n",
    "x = np.arange(1,6)\\\n",
    "y = np.arange(2,11,2)\\\n",
    "figure = plt.figure()\\\n",
    "axes1 = figure.add_axes([0.1, 0.2, 0.8, 0.8])\\\n",
    "axes2 = figure.add_axes([0.3, 0.5, 0.2, 0.3])\\\n",
    "\\\n",
    "axes1.plot(y,x)\\\n",
    "axes1.set_xlabel(\"Outer X\")_**   ----------> We gave \"x label name\" of first graph\\\n",
    "**_axes1.set_ylabel(\"Outer Y\")_**   ----------> We gave \"y label name\" of first graph\\\n",
    "**_axes1.set_title(\"Outer Graph\")_**   ----------> We gave a \"title\" to first graph\\\n",
    "\\\n",
    "**_axes2.plot(x,y)\\\n",
    "axes2.set_xlabel(\"Inner X\")_**   ----------> We gave \"x label name\" of second graph\\\n",
    "**_axes2.set_ylabel(\"Inner Y\")_**   ----------> We gave \"y label name\" of second graph\\\n",
    "**_axes2.set_title(\"Inner Graph\")_**   ----------> We gave a \"title\" to second graph\\\n",
    "\\\n",
    "**_plt.show()_**"
   ]
  },
  {
   "cell_type": "markdown",
   "id": "9bfc322c",
   "metadata": {},
   "source": [
    "## We can run it on Jupyter too, but it won't show the interface. It will show only the window of graphics:"
   ]
  },
  {
   "cell_type": "code",
   "execution_count": 13,
   "id": "2b82ebfe",
   "metadata": {},
   "outputs": [
    {
     "data": {
      "image/png": "[encoded data removed]",
      "text/plain": [
       "<Figure size 432x288 with 2 Axes>"
      ]
     },
     "metadata": {
      "needs_background": "light"
     },
     "output_type": "display_data"
    }
   ],
   "source": [
    "import matplotlib.pyplot as plt\n",
    "import numpy as np\n",
    "\n",
    "x = np.arange(1,6)\n",
    "y = np.arange(2,11,2)\n",
    "\n",
    "figure = plt.figure()\n",
    "axes1 = figure.add_axes([0.1, 0.1, 0.8, 0.8])\n",
    "axes2 = figure.add_axes([0.3, 0.5, 0.2, 0.3])\n",
    "\n",
    "axes1.plot(y,x)\n",
    "axes1.set_xlabel(\"Outer X\")\n",
    "axes1.set_ylabel(\"Outer Y\")\n",
    "axes1.set_title(\"Outer Graph\")\n",
    "\n",
    "axes2.plot(x,y)\n",
    "axes2.set_xlabel(\"Inner X\")\n",
    "axes2.set_ylabel(\"Inner Y\")\n",
    "axes2.set_title(\"Inner Graph\")\n",
    "\n",
    "\n",
    "plt.show()"
   ]
  },
  {
   "cell_type": "markdown",
   "id": "f38de42c",
   "metadata": {},
   "source": [
    "### It could be hard to understand at first, but you should make practices to understand better. Change the values and check what happens to the graphics. With this way it will be easier to understand."
   ]
  }
 ],
 "metadata": {
  "kernelspec": {
   "display_name": "Python 3",
   "language": "python",
   "name": "python3"
  },
  "language_info": {
   "codemirror_mode": {
    "name": "ipython",
    "version": 3
   },
   "file_extension": ".py",
   "mimetype": "text/x-python",
   "name": "python",
   "nbconvert_exporter": "python",
   "pygments_lexer": "ipython3",
   "version": "3.8.8"
  }
 },
 "nbformat": 4,
 "nbformat_minor": 5
}
